{
 "cells": [
  {
   "cell_type": "code",
   "execution_count": 2,
   "id": "4b189ee8",
   "metadata": {},
   "outputs": [
    {
     "name": "stdout",
     "output_type": "stream",
     "text": [
      "['DESCR', 'data', 'filenames', 'target', 'target_names']\n",
      "From: lerxst@wam.umd.edu (where's my thing)\n",
      "Subject: WHAT car is this!?\n",
      "Nntp-Posting-Host: rac3.wam.umd.edu\n",
      "Organization: University of Maryland, College Park\n",
      "Lines: 15\n",
      "\n",
      " I was wondering if anyone out there could enlighten me on this car I saw\n",
      "the other day. It was a 2-door sports car, looked to be from the late 60s/\n",
      "early 70s. It was called a Bricklin. The doors were really small. In addition,\n",
      "the front bumper was separate from the rest of the body. This is \n",
      "all I know. If anyone can tellme a model name, engine specs, years\n",
      "of production, where this car is made, history, or whatever info you\n",
      "have on this funky looking car, please e-mail.\n",
      "\n",
      "Thanks,\n",
      "- IL\n",
      "   ---- brought to you by your neighborhood Lerxst ----\n",
      "\n",
      "\n",
      "\n",
      "\n",
      "\n",
      "7\n",
      "alt.atheism\n"
     ]
    }
   ],
   "source": [
    "import numpy as np\n",
    "import pandas as pd\n",
    "import sklearn\n",
    "\n",
    "from sklearn.datasets import fetch_20newsgroups as newsgroups\n",
    "\n",
    "train = newsgroups(subset = 'train')\n",
    "test = newsgroups(subset = 'test')\n",
    "\n",
    "print(dir(train))\n",
    "\n",
    "print(train.data[0])\n",
    "print(train.target[0])\n",
    "print(train.target_names[0])\n",
    "\n",
    "#remove headers and footers so that our classifier will only fit to the body of the email\n",
    "#remove quoted emails to reduce noise\n",
    "\n",
    "train = newsgroups(subset = 'train', remove = ('headers', 'footers', 'quotes'))\n",
    "test = newsgroups(subset = 'test', remove = ('headers', 'footers', 'quotes'))"
   ]
  },
  {
   "cell_type": "code",
   "execution_count": 3,
   "id": "72184161",
   "metadata": {},
   "outputs": [
    {
     "name": "stdout",
     "output_type": "stream",
     "text": [
      "I was wondering if anyone out there could enlighten me on this car I saw\n",
      "the other day. It was a 2-door sports car, looked to be from the late 60s/\n",
      "early 70s. It was called a Bricklin. The doors were really small. In addition,\n",
      "the front bumper was separate from the rest of the body. This is \n",
      "all I know. If anyone can tellme a model name, engine specs, years\n",
      "of production, where this car is made, history, or whatever info you\n",
      "have on this funky looking car, please e-mail.\n"
     ]
    }
   ],
   "source": [
    "print(train.data[0])"
   ]
  },
  {
   "cell_type": "markdown",
   "id": "84c076c5",
   "metadata": {},
   "source": [
    "At the end of this notebook, I'll be running into major space-complexity issues, so I will not be able to work with the entire dataset."
   ]
  },
  {
   "cell_type": "code",
   "execution_count": 4,
   "id": "297f45e6",
   "metadata": {},
   "outputs": [],
   "source": [
    "TRAIN_LENGTH = 4000\n",
    "TEST_LENGTH = 1000\n",
    "\n",
    "X_train = [np.char.lower(email) for email in train.data[:TRAIN_LENGTH]] #all lower case\n",
    "X_test = [np.char.lower(email) for email in test.data[:TEST_LENGTH]]\n",
    "\n",
    "y_train = np.array(train.target[:TRAIN_LENGTH])\n",
    "y_test = np.array(test.target[:TEST_LENGTH])"
   ]
  },
  {
   "cell_type": "markdown",
   "id": "05202490",
   "metadata": {},
   "source": [
    "First, I preprocess the data. This consists of\n",
    "1. Tokenzing: convert each email from a string to an array of strings.\n",
    "['call me ishmael.'] becomes ['call', 'me', 'ishamel.']\n",
    "2. Stopwords excision: stopwords are a collection of the most common English language stopwords such as 'for' and 'me'. They contribute very little semantic information; they're just noise. Tf-idfs actually have a built in mechanism to reduce the significance of the role played by stopwords (in the inverse document frequency portion of a tf-idf's construction), but I remove them anyways at the very least to reduce the amount of memory I'll need. \n",
    "3. Stemming: reduce all words to their root base. 'computer' and 'computed' \n",
    "4. Punctuation excision: similar logic to 2 above.\n",
    "\n",
    "(Note, however, that stopwords and punctuation can play a function in detecting a given writer's style. Contrast the simple, blunt prose style of Hemingway with the long and meandering style of Faulkner. The latter will use significantly more punctuation and conjunctions.)"
   ]
  },
  {
   "cell_type": "code",
   "execution_count": 5,
   "id": "a415f271",
   "metadata": {},
   "outputs": [
    {
     "name": "stderr",
     "output_type": "stream",
     "text": [
      "[nltk_data] Error loading stopwords: <urlopen error [Errno 11001]\n",
      "[nltk_data]     getaddrinfo failed>\n"
     ]
    }
   ],
   "source": [
    "#tokenizing\n",
    "\n",
    "X_train = [str(email).split() for email in X_train]\n",
    "X_test = [str(email).split() for email in X_test]\n",
    "\n",
    "#stopwords excision\n",
    "\n",
    "import nltk\n",
    "from nltk.corpus import stopwords\n",
    "nltk.download('stopwords')\n",
    "\n",
    "stopwords = list(stopwords.words('english'))\n",
    "\n",
    "X_train = [[word for word in email if word not in stopwords] for email in X_train]\n",
    "X_test = [[word for word in email if word not in stopwords] for email in X_test]\n",
    "\n",
    "#stemming\n",
    "\n",
    "from nltk.stem import PorterStemmer\n",
    "ps = PorterStemmer()\n",
    "\n",
    "X_train = [[ps.stem(word) for word in email] for email in X_train]\n",
    "X_test = [[ps.stem(word) for word in email] for email in X_test]"
   ]
  },
  {
   "cell_type": "markdown",
   "id": "700060b9",
   "metadata": {},
   "source": [
    "Let's look at the data."
   ]
  },
  {
   "cell_type": "code",
   "execution_count": 6,
   "id": "023f71d4",
   "metadata": {},
   "outputs": [
    {
     "data": {
      "image/png": "[encoded data removed]",
      "text/plain": [
       "<Figure size 1000x700 with 1 Axes>"
      ]
     },
     "metadata": {},
     "output_type": "display_data"
    }
   ],
   "source": [
    "lengths_tr = [len(email) for email in X_train]\n",
    "lengths_te = [len(email) for email in X_test]\n",
    "\n",
    "from matplotlib import pyplot as plt\n",
    "\n",
    "fig, ax = plt.subplots()\n",
    "\n",
    "ax.hist(lengths_tr, bins=75, rwidth = 0.8)\n",
    "ax.set_xlabel('email length', fontsize = 20)\n",
    "ax.set_ylabel('Count', fontsize = 20)\n",
    "ax.set_title('train', fontsize = 25)\n",
    "fig.set_size_inches(10, 7)\n",
    "plt.show()"
   ]
  },
  {
   "cell_type": "code",
   "execution_count": 8,
   "id": "ecefe23f",
   "metadata": {},
   "outputs": [
    {
     "data": {
      "image/png": "[encoded data removed]",
      "text/plain": [
       "<Figure size 1000x700 with 1 Axes>"
      ]
     },
     "metadata": {},
     "output_type": "display_data"
    }
   ],
   "source": [
    "fig, ax = plt.subplots()\n",
    "\n",
    "ax.hist(lengths_te, bins=75, rwidth = 0.8)\n",
    "ax.set_xlabel('email length', fontsize = 20)\n",
    "ax.set_ylabel('Count', fontsize = 20)\n",
    "ax.set_title('test', fontsize = 25)\n",
    "fig.set_size_inches(10, 7)\n",
    "plt.show()"
   ]
  },
  {
   "cell_type": "markdown",
   "id": "2a8d526c",
   "metadata": {},
   "source": [
    "It makes sense to throw out the outliers. This will also help with performance."
   ]
  },
  {
   "cell_type": "code",
   "execution_count": 9,
   "id": "c7ec8566",
   "metadata": {},
   "outputs": [
    {
     "name": "stdout",
     "output_type": "stream",
     "text": [
      "2459 642\n"
     ]
    }
   ],
   "source": [
    "X_train_trimmed = [email for email in X_train if 15 <= len(email) <= 100]\n",
    "X_test_trimmed = [email for email in X_test if 15 <= len(email) <= 100]\n",
    "\n",
    "indices_train = [ind for (ind, email) in enumerate(X_train) if 15 <= len(email) <= 100]\n",
    "indices_test = [ind for (ind, email) in enumerate(X_test) if 15<= len(email) <= 100]\n",
    "\n",
    "X_train = X_train_trimmed\n",
    "X_test = X_test_trimmed\n",
    "\n",
    "print(len(X_train), len(X_test))"
   ]
  },
  {
   "cell_type": "code",
   "execution_count": 10,
   "id": "915c6c19",
   "metadata": {},
   "outputs": [
    {
     "name": "stdout",
     "output_type": "stream",
     "text": [
      "2459 642\n"
     ]
    }
   ],
   "source": [
    "y_train = y_train[indices_train]\n",
    "y_test = y_test[indices_test]\n",
    "\n",
    "print(len(y_train), len(y_test))"
   ]
  },
  {
   "cell_type": "markdown",
   "id": "585701f5",
   "metadata": {},
   "source": [
    "At this stage in this project I turn to manual construction of a tf-idf. In particular I will build a logarithmic tf-idf.\n",
    "\n",
    "The code below could be improved a few ways, for example by using list comprehensions, but I'll leave it this way for readability."
   ]
  },
  {
   "cell_type": "code",
   "execution_count": 11,
   "id": "916dea1c",
   "metadata": {},
   "outputs": [],
   "source": [
    "lexicon  = []\n",
    "for email in X_train:\n",
    "    for word in email:\n",
    "        if word not in lexicon:\n",
    "            lexicon.append(word)\n",
    "\n",
    "for email in X_test:\n",
    "    for word in email:\n",
    "        if word not in lexicon:\n",
    "            lexicon.append(word)\n",
    "         \n",
    "        \n",
    "import collections\n",
    "from collections import Counter\n",
    "\n",
    "count_train = Counter()\n",
    "for email in X_train:\n",
    "    unique_words = set(email)\n",
    "    count_train.update(unique_words)\n",
    "\n",
    "count_test = Counter()\n",
    "for email in X_test:\n",
    "    unique_words = set(email)\n",
    "    count_test.update(unique_words)"
   ]
  },
  {
   "cell_type": "markdown",
   "id": "7aaea5f9",
   "metadata": {},
   "source": [
    "The bottleneck of the algorithm below is in the calculation of the tf-idf vectors, which has a complexity of O(nm^2), where n is the number of emails and m is the size of the lexicon. This is because for each email, I need to calculate the tf-idf score for each word in the lexicon, which requires iterating over the entire email and lexicon."
   ]
  },
  {
   "cell_type": "code",
   "execution_count": 12,
   "id": "c8f449cc",
   "metadata": {},
   "outputs": [],
   "source": [
    "import math\n",
    "#the logarithmic definition of term frequency\n",
    "def tf(term, email):\n",
    "    return(math.log(1+(email.count(term))))\n",
    "\n",
    "#modified definition of idf\n",
    "def idf_train(term):\n",
    "    return(math.log(len(X_train)/(1+count_train[term]))) \n",
    "\n",
    "#the only definition of term frequency-inverse domain frequency\n",
    "def tfidf_train(term, email):\n",
    "    return(tf(term, email)*idf_train(term))\n",
    "\n",
    "#each email is mapped to a vector whose entries are tf-idf's of words in the lexicon\n",
    "def vector_train(email):\n",
    "    vector = []\n",
    "    for term in lexicon:\n",
    "        vector.append(tfidf_train(term, email))\n",
    "    return(vector)\n",
    "\n",
    "#Finally, we construct a matrix where each ith row is the tfidf vector for the ith email.\n",
    "def tfidf_vectors_train(corpus):\n",
    "    tfidf_vectors = []\n",
    "    for i in range(len(corpus)):\n",
    "        tfidf_vectors.append(vector_train(X_train[i]))\n",
    "    return(tfidf_vectors)"
   ]
  },
  {
   "cell_type": "code",
   "execution_count": 13,
   "id": "c214ec64",
   "metadata": {},
   "outputs": [],
   "source": [
    "def idf_test(term):\n",
    "    return(math.log(len(X_test)/(1+count_test[term])))\n",
    "           \n",
    "def tfidf_test(term, email):\n",
    "    return(tf(term, email)*idf_test(term))\n",
    "           \n",
    "def vector_test(email):\n",
    "    vector = []\n",
    "    for term in lexicon:\n",
    "        vector.append(tfidf_test(term, email))\n",
    "    return(vector)\n",
    "           \n",
    "def tfidf_vectors_test(corpus):\n",
    "    tfidf_vectors = []\n",
    "    for i in range(len(corpus)):\n",
    "        tfidf_vectors.append(vector_test(X_test[i]))\n",
    "    return(tfidf_vectors)"
   ]
  },
  {
   "cell_type": "code",
   "execution_count": 14,
   "id": "3d54d6a8",
   "metadata": {},
   "outputs": [],
   "source": [
    "#this is the codeblock that I need to be careful with\n",
    "X_train_vec = tfidf_vectors_train(X_train)\n",
    "X_test_vec = tfidf_vectors_test(X_test)\n",
    "\n",
    "#all told this codeblock is gonna cost about 3 GiB of memory"
   ]
  },
  {
   "cell_type": "code",
   "execution_count": 15,
   "id": "9e3080ed",
   "metadata": {},
   "outputs": [
    {
     "name": "stdout",
     "output_type": "stream",
     "text": [
      "Score: 0.586\n"
     ]
    }
   ],
   "source": [
    "del X_train\n",
    "del X_test\n",
    "\n",
    "from sklearn.linear_model import LogisticRegression\n",
    "\n",
    "clf = LogisticRegression()\n",
    "clf.fit(X_train_vec, y_train)\n",
    "\n",
    "print(\"Score: %.3f\"%clf.score(X_test_vec, y_test))"
   ]
  },
  {
   "cell_type": "code",
   "execution_count": null,
   "id": "7bdaadfa",
   "metadata": {},
   "outputs": [],
   "source": []
  },
  {
   "cell_type": "code",
   "execution_count": null,
   "id": "bb5cd703",
   "metadata": {},
   "outputs": [],
   "source": []
  }
 ],
 "metadata": {
  "kernelspec": {
   "display_name": "Python 3 (ipykernel)",
   "language": "python",
   "name": "python3"
  },
  "language_info": {
   "codemirror_mode": {
    "name": "ipython",
    "version": 3
   },
   "file_extension": ".py",
   "mimetype": "text/x-python",
   "name": "python",
   "nbconvert_exporter": "python",
   "pygments_lexer": "ipython3",
   "version": "3.9.13"
  }
 },
 "nbformat": 4,
 "nbformat_minor": 5
}
